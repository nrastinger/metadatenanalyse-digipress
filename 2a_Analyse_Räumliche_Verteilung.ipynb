{
  "cells": [
    {
      "cell_type": "markdown",
      "metadata": {
        "id": "QfmUkOdgtcxo"
      },
      "source": [
        "# **Analyse: Räumliche Verteilung der Periodika in digiPress**\n"
      ]
    },
    {
      "cell_type": "markdown",
      "metadata": {
        "id": "tFZPcNo_tTWe"
      },
      "source": [
        "## Installation benötigter Bibliotheken"
      ]
    },
    {
      "cell_type": "code",
      "execution_count": null,
      "metadata": {
        "id": "ZNW2GoY2qv4G"
      },
      "outputs": [],
      "source": [
        "import pandas as pd\n",
        "from geopy.geocoders import Nominatim # Zur Geokodierung von Orten\n",
        "from tqdm.notebook import tqdm # Zum Darstellen von Fortschrittsanzeigen\n",
        "import time # Zum Arbeiten mit Zeit - hier für Pausen bei Geokodierungsabfragen\n",
        "\n",
        "# folium = Python-Bibliothek für das Erstellen interaktiver Karten\n",
        "!pip install folium\n",
        "import folium\n",
        "from folium.plugins import MarkerCluster\n",
        "from folium.plugins import HeatMap\n",
        "\n",
        "# Modul zur Berechnung geographischer Distanz\n",
        "from geopy.distance import geodesic"
      ]
    },
    {
      "cell_type": "markdown",
      "metadata": {
        "id": "l7-7iGwpq5bh"
      },
      "source": [
        "## Laden der Zeitungsliste"
      ]
    },
    {
      "cell_type": "code",
      "execution_count": null,
      "metadata": {
        "id": "fduq3bhaq-17"
      },
      "outputs": [],
      "source": [
        "df = pd.read_excel(\"Zeitungsliste.xlsx\") # Einlesen von Excel-Datei\n",
        "df.head() # Anzeigen erster fünf Zeilen"
      ]
    },
    {
      "cell_type": "markdown",
      "metadata": {
        "id": "DUxgWW3BttuL"
      },
      "source": [
        "## Vorbereitung der Daten"
      ]
    },
    {
      "cell_type": "markdown",
      "metadata": {
        "id": "d8opa_ZVuI7j"
      },
      "source": [
        "### Trennen von Publikationsort und Herausgeber/Verlag"
      ]
    },
    {
      "cell_type": "code",
      "execution_count": null,
      "metadata": {
        "id": "3nxXlVo-Uq0b"
      },
      "outputs": [],
      "source": [
        "# Wert der Spalte \"Erschienen\" (z.B. \"Aarau: Sauerländer\") in \"Publikationsort\" und \"Herausgeber\" trennen (anhand von Doppelpunkt)\n",
        "df[['Publikationsort', 'Herausgeber']] = df['Erschienen'].str.split(': ', n=1, expand=True) # Trennung an 1. Doppelpunkt, Aufteilen in zwei eigenständige Spalten\n",
        "\n",
        "#Spalte \"Erschienen\" löschen\n",
        "df = df.drop('Erschienen', axis=1)\n",
        "\n",
        "# Anzeigen der ersten Zeilen des DataFrames\n",
        "df.head()"
      ]
    },
    {
      "cell_type": "markdown",
      "metadata": {
        "id": "R37LP1_ZStv5"
      },
      "source": [
        "### Markierungen entfernen"
      ]
    },
    {
      "cell_type": "markdown",
      "metadata": {
        "id": "sfEfBd6RSzeV"
      },
      "source": [
        "Einzelne Publikationsorte sind über eckige Klammern als erschlossen markiert, z.B. *[München]*."
      ]
    },
    {
      "cell_type": "code",
      "execution_count": null,
      "metadata": {
        "id": "MFYVsDYsTLZd"
      },
      "outputs": [],
      "source": [
        "# Löschen eckiger Klammern im \"Publikationsort\"\n",
        "df['Publikationsort'] = df['Publikationsort'].str.replace(\"[\",\"\").str.replace(\"]\",\"\")\n",
        "df"
      ]
    },
    {
      "cell_type": "markdown",
      "metadata": {
        "id": "t3X2oJ4bTMkh"
      },
      "source": [
        "### Nicht bekannte Publikationsorte"
      ]
    },
    {
      "cell_type": "markdown",
      "metadata": {
        "id": "TkmwZyAJTTIB"
      },
      "source": [
        "Nicht bekannte Publikationsorte sind in digiPress über *[Erscheinungsort nicht ermittelbar]* gekennzeichnet."
      ]
    },
    {
      "cell_type": "code",
      "execution_count": null,
      "metadata": {
        "id": "HzBw_qgZQadY"
      },
      "outputs": [],
      "source": [
        "# Für wie viele Zeitungstitel ist der Publikationsort nicht bekannt?\n",
        "\n",
        "count = df[df['Publikationsort'] == 'Erscheinungsort nicht ermittelbar'].shape[0]\n",
        "print(f\"Anzahl nicht bekannter Publikationsorte: {count}\")"
      ]
    },
    {
      "cell_type": "markdown",
      "metadata": {
        "id": "aN1z9u6-fhA8"
      },
      "source": [
        "Hier - der Einfachkeit halber und da wenige Fälle - Entfernen von Titeln ohne Publikationsort:"
      ]
    },
    {
      "cell_type": "code",
      "execution_count": null,
      "metadata": {
        "id": "q6qhhIuEfgjG"
      },
      "outputs": [],
      "source": [
        "df = df[df[\"Publikationsort\"] != \"Erscheinungsort nicht ermittelbar\"]"
      ]
    },
    {
      "cell_type": "markdown",
      "metadata": {
        "id": "Ye-F2rj-bfr8"
      },
      "source": [
        "### Trennen mehrerer Publikationsorte"
      ]
    },
    {
      "cell_type": "markdown",
      "metadata": {
        "id": "n6W1r70Lbnjl"
      },
      "source": [
        "Für einen Titel können mehrere Publikationsorte genannt sein, z.B. \"Leipzig, Dresden\" - aber Vorsicht: Beistriche müssen nicht unbedingt ein Marker hierfür sein, z.B. \"Halle, S.\" oder \"Frankfurt, M\"."
      ]
    },
    {
      "cell_type": "code",
      "execution_count": null,
      "metadata": {
        "id": "rpzMCDXIbnNQ"
      },
      "outputs": [],
      "source": [
        "# Funktion zur Trennung (mit Berücksichtigung von Ausnahmen)\n",
        "\n",
        "def split_publikationsort(location_string):\n",
        "    locations = [loc.strip() for loc in location_string.split(',') if loc.strip()] # Trennung bei Beistrich\n",
        "    split_locations = [] # Liste zum Sammeln der Orte\n",
        "\n",
        "    # Überprüfung, ob es sich um Ausnahmen handelt\n",
        "    for loc in locations:\n",
        "        # Falls Ort nur einen Buchstaben und optional einen Punkt umfasst:\n",
        "        if (len(loc) == 1 and loc.isalpha()) or (len(loc) == 2 and loc[0].isalpha() and loc[1] == '.'):\n",
        "            if split_locations:\n",
        "                # Zusammenführung mit vorherigem Ort\n",
        "                split_locations[-1] = split_locations[-1] + ', ' + loc\n",
        "        else:\n",
        "            split_locations.append(loc)\n",
        "\n",
        "    return split_locations\n",
        "\n",
        "# Beispiel\n",
        "print(split_publikationsort(\"Halle, S., Leipzig\"))"
      ]
    },
    {
      "cell_type": "code",
      "execution_count": null,
      "metadata": {
        "id": "AbfgkVk1g6P5"
      },
      "outputs": [],
      "source": [
        "# Inhalt der Spalte \"Publikationsort\" je in Liste umwandeln\n",
        "df['Publikationsort'] = df['Publikationsort'].apply(split_publikationsort)\n",
        "\n",
        "# DataFrame entlang dieser Spalte 'explodieren' lassen = für jeden Publikationsort wird eine Zeile angelegt, die anderen Werte werden dupliziert\n",
        "df = df.explode('Publikationsort').reset_index(drop=True)\n",
        "\n",
        "# Display the updated DataFrame\n",
        "df.head()"
      ]
    },
    {
      "cell_type": "markdown",
      "metadata": {
        "id": "9HSePNKsWi-k"
      },
      "source": [
        "## Top 10 der Publikationsorte in digiPress"
      ]
    },
    {
      "cell_type": "code",
      "execution_count": null,
      "metadata": {
        "id": "P-_zvyRtsaAB"
      },
      "outputs": [],
      "source": [
        "# Anzahl pro Ort zählen\n",
        "location_counts = df[\"Publikationsort\"].value_counts()\n",
        "\n",
        "# 10 häufigste Orte\n",
        "top_10_locations = location_counts.head(10) # Nummer ändern, falls mehr Werte angezeigt werden sollen\n",
        "\n",
        "# Display the top 10 locations and their counts\n",
        "display(top_10_locations)"
      ]
    },
    {
      "cell_type": "markdown",
      "metadata": {
        "id": "eTUX3m3UW-Ye"
      },
      "source": [
        "**Frage:** Wodurch ist das obige Ergebnis verzerrt?"
      ]
    },
    {
      "cell_type": "code",
      "execution_count": null,
      "metadata": {
        "id": "TGozVVxywVVd"
      },
      "outputs": [],
      "source": [
        "# Top 10 der Publikationsorte in digiPress - nun auf Ebene des Zeitungsunternehmens\n",
        "\n",
        "# Jeder Ort pro digiPress-ID soll nur einmal gezählt werden (= .groupby(\"Publikationsort\"))\n",
        "top_10_locations_by_id = df.groupby('Publikationsort')['digiPress-ID'].nunique().sort_values(ascending=False).head(10)\n",
        "\n",
        "display(top_10_locations_by_id)"
      ]
    },
    {
      "cell_type": "markdown",
      "metadata": {
        "id": "2LGU3cbLWKDp"
      },
      "source": [
        "## Kartendarstellung der Publikationsorte"
      ]
    },
    {
      "cell_type": "markdown",
      "metadata": {
        "id": "DopViLnLtJij"
      },
      "source": [
        "(Hinweis: Titelebene)"
      ]
    },
    {
      "cell_type": "markdown",
      "metadata": {
        "id": "DITjxZyUywhz"
      },
      "source": [
        "### Geokodierung"
      ]
    },
    {
      "cell_type": "markdown",
      "metadata": {
        "id": "967IVptiVvY-"
      },
      "source": [
        "Die Ortsangaben in den digiPress-Metadaten sind reine 'Strings' (Text) und müssen für die Darstellung auf einer Karte erst an Koordinaten gekoppelt (= geokodiert) werden."
      ]
    },
    {
      "cell_type": "code",
      "execution_count": null,
      "metadata": {
        "id": "94YQuGNUV0B5"
      },
      "outputs": [],
      "source": [
        "# Initialisierung von Geocoder geocoder\n",
        "geolocator = Nominatim(user_agent=\"nrast\", timeout=10) # WICHTIG: persönlichen, beliebigen User-Agent setzen (z.B. Kombination aus Teilen des eigenen Namens)"
      ]
    },
    {
      "cell_type": "code",
      "execution_count": null,
      "metadata": {
        "id": "oRqc1A5CiHt2"
      },
      "outputs": [],
      "source": [
        "# Beispiel zum Testen\n",
        "location = geolocator.geocode(\"Köln\", exactly_one=True, timeout=10)\n",
        "print(location, location.latitude, location.longitude)"
      ]
    },
    {
      "cell_type": "markdown",
      "metadata": {
        "id": "M2SFdikLZJxc"
      },
      "source": [
        "**Aufgabe**: Testen Sie einige Beispiele. Wie erfolgreich ist die Geokodierung der Publikationsorte über Nominatim, was könnte eine Herausforderung darstellen?"
      ]
    },
    {
      "cell_type": "code",
      "execution_count": null,
      "metadata": {
        "id": "dMhYdthuanX9"
      },
      "outputs": [],
      "source": [
        "# Anwendung auf gesamte Daten - Dauer ca. 5 Minuten\n",
        "\n",
        "# Fortschrittsanzeige\n",
        "tqdm.pandas()\n",
        "\n",
        "# Initialisierung von Cache - damit bereits geokodierte Strings (z.B. \"Leipzig\") nicht jedes Mal neu abgefragt werden\n",
        "geo_cache = {}\n",
        "\n",
        "# Hilfsfunktion für Cache\n",
        "def geocode_city(city):\n",
        "    if pd.isna(city):\n",
        "        return pd.Series([None, None])\n",
        "\n",
        "    # Wenn Ort bereits im Cache: Koordinaten von dort nehmen\n",
        "    if city in geo_cache:\n",
        "        return pd.Series(geo_cache[city])\n",
        "\n",
        "    try:\n",
        "        location = geolocator.geocode(city, exactly_one=True, timeout=10)\n",
        "        time.sleep(1)\n",
        "        if location:\n",
        "            result = (location.latitude, location.longitude)\n",
        "        else:\n",
        "            result = (None, None)\n",
        "    except Exception as e: # Fehler melden\n",
        "        print(f\"Error for {city}: {e}\")\n",
        "        result = (None, None)\n",
        "\n",
        "    # Speichern in Cache\n",
        "    geo_cache[city] = result\n",
        "    return pd.Series(result)\n",
        "\n",
        "# Anwendung auf Datensatz\n",
        "df[[\"lat_Publikationsort\", \"lon_Publikationsort\"]] = df[\"Publikationsort\"].progress_apply(geocode_city)\n",
        "\n",
        "df.head()"
      ]
    },
    {
      "cell_type": "code",
      "execution_count": null,
      "metadata": {
        "id": "TrH3eI9ckEel"
      },
      "outputs": [],
      "source": [
        "# Alternative (falls Geokodierung zu lange dauert): Vorbereite Version laden\n",
        "\n",
        "df = pd.read_excel(\"Zeitungsliste_geokodiert.xlsx\") # Einlesen von Excel-Datei\n",
        "df.head() # Anzeigen erster fünf Zeilen"
      ]
    },
    {
      "cell_type": "markdown",
      "metadata": {
        "id": "P4sslXi4rb4Q"
      },
      "source": [
        "### Visualisierung"
      ]
    },
    {
      "cell_type": "code",
      "execution_count": null,
      "metadata": {
        "id": "IEh-RO0Elxbt"
      },
      "outputs": [],
      "source": [
        "# Erstellen von interaktiver Karte, die auf Mittelpunkt der Daten hinzoomt\n",
        "map = folium.Map(location=[df[\"lat_Publikationsort\"].mean(), df[\"lon_Publikationsort\"].mean()], zoom_start=4)\n",
        "\n",
        "# Einschalten von MarkerCluster - viele beeinander liegende Marker werden geclustered\n",
        "marker_cluster = MarkerCluster().add_to(map)\n",
        "\n",
        "# Hinzufügen eines Markers für jede Zeile des DataFrames\n",
        "for idx, row in df.dropna(subset=[\"lat_Publikationsort\", \"lon_Publikationsort\"]).iterrows():\n",
        "    folium.Marker(\n",
        "        location=[row[\"lat_Publikationsort\"], row[\"lon_Publikationsort\"]], # Koordinaten definieren\n",
        "        popup=f\"\"\"Ort: {row['Publikationsort']}<br>Titel: {row[\"Titel\"]}<br>digiPress-ID:{row[\"digiPress-ID\"]}\"\"\"\n",
        "    ).add_to(marker_cluster)\n",
        "\n",
        "map"
      ]
    },
    {
      "cell_type": "markdown",
      "metadata": {
        "id": "HICCnMd-uZSX"
      },
      "source": [
        "**Fragen:**\n",
        "* Welche Schlüsse können aus der Karte gezogen werden?\n",
        "* Welche Probleme hat diese Kartenansicht und wie würden sich diese lösen lassen?"
      ]
    },
    {
      "cell_type": "markdown",
      "metadata": {
        "id": "WNsjOP8BvEnY"
      },
      "source": [
        "## Kartendarstellung der Verbreitungsorte"
      ]
    },
    {
      "cell_type": "markdown",
      "metadata": {
        "id": "qXKqZpGYz65J"
      },
      "source": [
        "Die folgende Zelle führt die diversen Schritte nochmal für die Verbreitungsorte durch. Voraussetzung ist, dass die obigen Zellen bereits ausgeführt worden, da auf dort definierte Funktionen etc. zurückgegriffen wird."
      ]
    },
    {
      "cell_type": "markdown",
      "metadata": {
        "id": "4xtxcg8Z82wy"
      },
      "source": [
        "### Geokodierung und Visualisierung"
      ]
    },
    {
      "cell_type": "code",
      "execution_count": null,
      "metadata": {
        "id": "CS8yW68h3yHZ"
      },
      "outputs": [],
      "source": [
        "# Ausführung dauert ca. 7-10 Minuten\n",
        "\n",
        "# Einträge von \"Verbreitungsort(e)\" an \";\" aufteilen (Daten sind konsistent!) - nun eine Zeile pro Kombination aus Publikations- und Verbreitungsort\n",
        "df2 = (\n",
        "    df.dropna(subset=[\"Verbreitungsort(e)\"])\n",
        "      .assign(Verbreitungsort=df[\"Verbreitungsort(e)\"].str.split(\"; \"))\n",
        "      .explode(\"Verbreitungsort\"))\n",
        "\n",
        "# Geokodierung\n",
        "tqdm.pandas()\n",
        "geo_cache = {}\n",
        "df2[[\"lat_Verbreitungsort\", \"lon_Verbreitungsort\"]] = df2[\"Verbreitungsort\"].progress_apply(geocode_city)\n",
        "\n",
        "#Kartenvisualisierung\n",
        "map_verbreitung = folium.Map(location=[df2[\"lat_Verbreitungsort\"].mean(), df2[\"lon_Verbreitungsort\"].mean()], zoom_start=4)\n",
        "marker_cluster = MarkerCluster().add_to(map_verbreitung)\n",
        "for idx, row in df2.dropna(subset=[\"lat_Verbreitungsort\", \"lon_Verbreitungsort\"]).iterrows():\n",
        "    folium.Marker(\n",
        "        location=[row[\"lat_Verbreitungsort\"], row[\"lon_Verbreitungsort\"]], # lat und lon als Koordinaten verwendet\n",
        "        popup=f\"\"\"Ort: {row['Verbreitungsort']}<br>Titel: {row[\"Titel\"]}<br>digiPress-ID:{row[\"digiPress-ID\"]}\"\"\"\n",
        "    ).add_to(marker_cluster)\n",
        "\n",
        "map_verbreitung"
      ]
    },
    {
      "cell_type": "code",
      "execution_count": null,
      "metadata": {
        "id": "Lx9P3u0b8sD_"
      },
      "outputs": [],
      "source": [
        "# Alternative (falls Geokodierung zu lange dauert): Vorbereitete Daten verwenden\n",
        "\n",
        "df2 = pd.read_excel(\"Zeitungsliste_erweitert_geokodiert.xlsx\") # Einlesen von Excel-Datei\n",
        "\n",
        "#Kartenvisualisierung\n",
        "map_verbreitung = folium.Map(location=[df2[\"lat_Verbreitungsort\"].mean(), df2[\"lon_Verbreitungsort\"].mean()], zoom_start=4)\n",
        "marker_cluster = MarkerCluster().add_to(map_verbreitung)\n",
        "for idx, row in df2.dropna(subset=[\"lat_Verbreitungsort\", \"lon_Verbreitungsort\"]).iterrows():\n",
        "    folium.Marker(\n",
        "        location=[row[\"lat_Verbreitungsort\"], row[\"lon_Verbreitungsort\"]], # lat und lon als Koordinaten verwendet\n",
        "        popup=f\"\"\"Ort: {row['Verbreitungsort']}<br>Titel: {row[\"Titel\"]}<br>digiPress-ID:{row[\"digiPress-ID\"]}\"\"\"\n",
        "    ).add_to(marker_cluster)\n",
        "\n",
        "map_verbreitung"
      ]
    },
    {
      "cell_type": "markdown",
      "metadata": {
        "id": "exjuVPpe6C_7"
      },
      "source": [
        "### Alternative: Heatmap"
      ]
    },
    {
      "cell_type": "code",
      "execution_count": null,
      "metadata": {
        "id": "Moq3AaiV43qP"
      },
      "outputs": [],
      "source": [
        "# Folium für Heatmap verwenden\n",
        "\n",
        "heatmap = folium.Map(location=[df2[\"lat_Verbreitungsort\"].mean(), df2[\"lon_Verbreitungsort\"].mean()], zoom_start=4)\n",
        "heat_data = df2.dropna(subset=[\"lat_Verbreitungsort\", \"lon_Verbreitungsort\"])[[\"lat_Verbreitungsort\", \"lon_Verbreitungsort\"]].values.tolist()\n",
        "HeatMap(heat_data, radius=12, blur=15, max_zoom=6).add_to(heatmap)\n",
        "heatmap"
      ]
    },
    {
      "cell_type": "markdown",
      "metadata": {
        "id": "0R3AHUsY9n0n"
      },
      "source": [
        "## Bonus: Zeitungen mit der geographisch (!) weitesten Reichweite finden"
      ]
    },
    {
      "cell_type": "markdown",
      "source": [
        "Beziehungsweise: Finden von Fehlern in der Geokodierung"
      ],
      "metadata": {
        "id": "sr3jXwyqNNN2"
      }
    },
    {
      "cell_type": "code",
      "execution_count": null,
      "metadata": {
        "id": "oMYG987f9njA"
      },
      "outputs": [],
      "source": [
        "# Funktion zur Kalkulation der Distanz zwischen Publikations- und Verbreitungsort (in Kilometer)\n",
        "def calc_distance(row):\n",
        "    if pd.notna(row[\"lat_Verbreitungsort\"]) and pd.notna(row[\"lat_Publikationsort\"]):\n",
        "        return geodesic(\n",
        "            (row[\"lat_Verbreitungsort\"], row[\"lon_Verbreitungsort\"]),\n",
        "            (row[\"lat_Publikationsort\"], row[\"lon_Publikationsort\"])\n",
        "        ).kilometers\n",
        "    else:\n",
        "        return None\n",
        "\n",
        "# Neue Spalte mit Distanz hinzufügen\n",
        "df2[\"dist_km\"] = df2.apply(calc_distance, axis=1)\n",
        "\n",
        "# Subset erstellen: 50 Zeilen mit höchster Distanz\n",
        "top10 = df2.nlargest(50, \"dist_km\")\n",
        "\n",
        "# Anzeigen als Dataframe mit ausgewählten Spalten\n",
        "top10[[\"Titel\", \"digiPress-ID\", \"Verbreitungsort\", \"Publikationsort\", \"dist_km\"]]"
      ]
    },
    {
      "cell_type": "markdown",
      "metadata": {
        "id": "ocDaluO7gwMX"
      },
      "source": [
        "## Speicherung als Excel-Dateien"
      ]
    },
    {
      "cell_type": "code",
      "execution_count": null,
      "metadata": {
        "id": "yxE16juErJqy"
      },
      "outputs": [],
      "source": [
        "df.to_excel(\"Zeitungsliste_geokodiert.xlsx\", index=False)"
      ]
    },
    {
      "cell_type": "code",
      "execution_count": null,
      "metadata": {
        "id": "MtzWLBls2YFF"
      },
      "outputs": [],
      "source": [
        "df2.to_excel(\"Zeitungsliste_erweitert_geokodiert.xlsx\", index=False)"
      ]
    }
  ],
  "metadata": {
    "colab": {
      "provenance": []
    },
    "kernelspec": {
      "display_name": "Python 3",
      "name": "python3"
    },
    "language_info": {
      "name": "python"
    }
  },
  "nbformat": 4,
  "nbformat_minor": 0
}