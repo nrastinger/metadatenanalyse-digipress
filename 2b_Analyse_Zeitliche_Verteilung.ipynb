{
  "cells": [
    {
      "cell_type": "markdown",
      "source": [
        "# **Analyse: Räumliche Verteilung der Periodika in digiPress**"
      ],
      "metadata": {
        "id": "gnzwiwxQYPwi"
      }
    },
    {
      "cell_type": "markdown",
      "metadata": {
        "id": "MtMBRMbiPmkq"
      },
      "source": [
        "## Installation benötigter Bibliotheken"
      ]
    },
    {
      "cell_type": "code",
      "execution_count": null,
      "metadata": {
        "id": "QsMuGnZbW6Rv"
      },
      "outputs": [],
      "source": [
        "import requests\n",
        "from bs4 import BeautifulSoup\n",
        "import pandas as pd\n",
        "import matplotlib.pyplot as plt # Zum Erstellen von Diagrammen\n",
        "import numpy as np # Bibliothek für diverse Datenstrukturen und numerische Berechnungen\n",
        "import re # Bibliothek für Regular Expressions (RegEx), auch reguläre Ausdrücke genannt\n",
        "import time # Zum Einbauen von Pausen bei HTTP-Anfragen\n",
        "from functools import lru_cache # Bibliothek für Cache\n",
        "import ast # Zur Datentransformation"
      ]
    },
    {
      "cell_type": "markdown",
      "source": [
        "## Daten einlesen"
      ],
      "metadata": {
        "id": "4Ntvq8T8YIaP"
      }
    },
    {
      "cell_type": "code",
      "execution_count": null,
      "metadata": {
        "id": "T_5_r5-9A0pt"
      },
      "outputs": [],
      "source": [
        "df = pd.read_excel('Zeitungsliste.xlsx')\n",
        "df.head()"
      ]
    },
    {
      "cell_type": "markdown",
      "source": [
        "### Anfangs- und Endzeitpunkt des Erscheinungszeitraums trennen"
      ],
      "metadata": {
        "id": "YFoRvYZWU1kM"
      }
    },
    {
      "cell_type": "code",
      "source": [
        "# Gleiche Vorgehensweise wie bei Orten: hier Trennung bei Bindestrich\n",
        "\n",
        "df[[\"Start\", \"End\"]] = df[\"Erscheinungsverlauf\"].str.split(\"–\", expand=True)\n",
        "df[\"Start\"] = df[\"Start\"].str.strip().astype(int) # .astype(int) = Umwandlung in Integers (int)\n",
        "df[\"End\"] = df[\"End\"].str.strip().astype(int)"
      ],
      "metadata": {
        "id": "gcCS6AyuUvp2"
      },
      "execution_count": null,
      "outputs": []
    },
    {
      "cell_type": "code",
      "source": [
        "# Überprüfung: Folgen alle Zeilen der Spalte \"Erscheinungsverlauf\" dem Muster \"JJJJ - JJJJ\"?\n",
        "\n",
        "regex_pattern = r'^\\d{4}\\s*–\\s*\\d{4}$' # Regulärer Ausdruck für \"JJJJ - JJJJ\"\n",
        "# ^ markiert Anfang\n",
        "# \\d = Zahl (digit)\n",
        "# {4} spezifiziert Anzahl\n",
        "# \\s* erlaubt optionale Leerzeichen\n",
        "# $ markiert Ende\n",
        "\n",
        "# Anwendung des Patterns auf alle Werte: trifft Muster zu?\n",
        "pattern = df['Erscheinungsverlauf'].astype(str).apply(lambda x: bool(re.match(regex_pattern, x)))\n",
        "\n",
        "if pattern.all(): # Pattern trifft auf alle Zeilen zu\n",
        "    print(\"Alle Werte in 'Erscheinungsverlauf' folgen dem Muster 'JJJJ – JJJJ'.\")\n",
        "else: #Pattern trifft auf einzelne Zeilen NICHT zu\n",
        "    print(\"Diese Werte folgen NICHT dem Muster 'JJJJ – JJJJ':\")\n",
        "    non_matching_values = df.loc[~pattern, 'Erscheinungsverlauf'] # Filtere das Datenset nach Zeilen, wo das Muster NICHT (~) befolgt wird\n",
        "    for val in non_matching_values: # Gib diese Werte aus\n",
        "        print(val)"
      ],
      "metadata": {
        "id": "SvL9kt2qxNB3"
      },
      "execution_count": null,
      "outputs": []
    },
    {
      "cell_type": "code",
      "source": [
        "# Korrigierter Code\n",
        "\n",
        "df[[\"Start\", \"End\"]] = df[\"Erscheinungsverlauf\"].str.split(\"–\", expand=True)\n",
        "df[\"Start\"] = df[\"Start\"].str.strip().astype(int)\n",
        "df[\"End\"] = df[\"End\"].str.strip().replace(\"\", \"2025\").astype(int) # Leere Enddatumsangaben werden durch \"2025\" ersetzt"
      ],
      "metadata": {
        "id": "rDWz3CaZfQfs"
      },
      "execution_count": null,
      "outputs": []
    },
    {
      "cell_type": "markdown",
      "source": [
        "## Wann sind die in digiPress verfügbaren Periodika erschienen?"
      ],
      "metadata": {
        "id": "BPinYUS7WdMj"
      }
    },
    {
      "cell_type": "markdown",
      "source": [
        "Auswertung auf Basis des angegebenen Erscheinungsverlaufs (!): Wo gibt es zeitliche Häufungen, d.h. in welchen Zeiträumen sind besonders viele der digitalisierten Zeitungen erschienen?"
      ],
      "metadata": {
        "id": "7fci5_uxfWw3"
      }
    },
    {
      "cell_type": "markdown",
      "source": [
        "### Jahre und Anzahl erschienener Titel pro Jahr eruieren"
      ],
      "metadata": {
        "id": "0zXwnuRqT8Gz"
      }
    },
    {
      "cell_type": "code",
      "source": [
        "#Ordnen der Daten nach Startjahr\n",
        "sorted_data = df.sort_values(by='Start').reset_index(drop=True)\n",
        "\n",
        "# Erstellen von Liste an durchzugehenden Jahre\n",
        "years = np.arange(sorted_data['Start'].min(), sorted_data['End'].max() + 1)\n",
        "\n",
        "# Anzahl aktiver Zeitungsunternehmen pro Jahr berechnen\n",
        "active_counts = []\n",
        "for y in years: #\n",
        "    # alle Titel, die in diesem Jahr aktiv sind, finden:\n",
        "    active_titles = sorted_data[(sorted_data['Start'] <= y) & (sorted_data['End'] >= y)]\n",
        "    # hierunter jedes Unternehmen nur einmal zählen (z.B. wenn Beilage und Hauptblatt eines Unternehmens im gleichen Jahr erschienen sind):\n",
        "    n_active_companies = active_titles['digiPress-ID'].nunique()\n",
        "    # zu Gesamtcounts hinzufügen\n",
        "    active_counts.append(n_active_companies)\n",
        "\n",
        "# Beispielausschnitte aus erstellten Überblicken\n",
        "print(years[51:60])\n",
        "print(active_counts[51:60])"
      ],
      "metadata": {
        "id": "NBinU9W4TIOd"
      },
      "execution_count": null,
      "outputs": []
    },
    {
      "cell_type": "markdown",
      "source": [
        "### Darstellung als Flächendiagramm"
      ],
      "metadata": {
        "id": "EUq1yZssUOt7"
      }
    },
    {
      "cell_type": "code",
      "source": [
        "plt.figure(figsize=(14,6)) # Initalisieren des Diagramms und Größeneinstellung\n",
        "plt.plot(years, active_counts, color=\"green\") # Hinzufügen der Daten = Linie und Achsen (aktive Titel pro Jahr)\n",
        "plt.fill_between(years, active_counts, alpha=0.3, color=\"green\") # Füllung zwischen x-Achse und Linie, alpha setzt Transparenz\n",
        "plt.title(\"Erscheinungsverlauf der Periodika in digiPress: Unternehmen pro Jahr\", fontsize=20) # Diagrammtitel\n",
        "plt.xlabel(\"Jahr\") # Label für x-Achse\n",
        "plt.ylabel(\"Anzahl erschienener Titel\", fontsize=16) # Label für y-Achse\n",
        "plt.grid(True, alpha=0.5, linestyle=\"--\") # Angaben für Hintergrundraster\n",
        "plt.show()"
      ],
      "metadata": {
        "id": "VAFRagYuSRzd"
      },
      "execution_count": null,
      "outputs": []
    },
    {
      "cell_type": "markdown",
      "source": [
        "### Darstellung als Heatmap"
      ],
      "metadata": {
        "id": "TfRtOL30UZ_N"
      }
    },
    {
      "cell_type": "code",
      "source": [
        "heatmap = np.array([active_counts]) # Umwandlung in korrektes Format für Heatmap\n",
        "plt.figure(figsize=(16, 3)) # Größe des Diagramms\n",
        "plt.imshow(heatmap, aspect=\"auto\", cmap=\"Greens\",\n",
        "           extent=[years.min(), years.max(), 0, 1]) # Erstellen von Diagramm inklusive Festlegen der Gestaltung\n",
        "plt.colorbar(label=\"Anzahl erschienener Titel\") # Hinzufügen von Legende mit Label\n",
        "plt.title(\"Heatmap des Erscheinungsverlauf der Periodika in digiPress: Unternehmen pro Jahr\", fontsize=18) # Überschrift\n",
        "plt.xlabel(\"Jahr\") # Label für x-Achse\n",
        "plt.yticks([])  # Entfernen von y-Achse (nicht relevant hier)\n",
        "plt.show() # Diagramm anzeigen"
      ],
      "metadata": {
        "id": "JnwjmKiGqARQ"
      },
      "execution_count": null,
      "outputs": []
    },
    {
      "cell_type": "markdown",
      "source": [
        "**Frage:** Was zeigen uns diese Überblicksgrafiken? Was sagen sie über die Daten in digiPress aus, was nicht?"
      ],
      "metadata": {
        "id": "cZyt3Nh1P8Rq"
      }
    },
    {
      "cell_type": "markdown",
      "source": [
        "## Für welche Jahrgänge sind in digiPress Ausgaben verfügbar?"
      ],
      "metadata": {
        "id": "ocDaluO7gwMX"
      }
    },
    {
      "cell_type": "markdown",
      "source": [
        "**Frage:** Wie könnten wir - ausgehend von der gescrapten Zeitungsliste - erheben, für welche Jahre der verschiedenen Zeitungsunternehmen digitale Ausgaben zur Verfügung stehen? (Tipp: Denkt an die verschiedenen digiPress-Einstiegsmöglichkeiten.)"
      ],
      "metadata": {
        "id": "VtTApeI2QvsO"
      }
    },
    {
      "cell_type": "markdown",
      "source": [
        "### Erheben der verfügbaren Jahrgänge"
      ],
      "metadata": {
        "id": "COaaQp19jSM0"
      }
    },
    {
      "cell_type": "code",
      "execution_count": null,
      "metadata": {
        "id": "aQLFo5LMFRBB"
      },
      "outputs": [],
      "source": [
        "# Definieren einer Funktion, die eine URL als Input nimmt und das HTML zurückgibt\n",
        "# Rückschau: wie bei anfänglichem Webscraper in Notebook 1\n",
        "\n",
        "def get_html_from_url(url):\n",
        "    try:\n",
        "      response = requests.get(url)\n",
        "      response.raise_for_status()  # Fehlermeldungen rückmelden\n",
        "\n",
        "      soup = BeautifulSoup(response.content, \"html.parser\")\n",
        "      return soup  # BeautifulSoup-Objekt ausgeben\n",
        "\n",
        "    except requests.exceptions.RequestException as e: # Falls ein Fehler auftritt:\n",
        "      print(f\"Error fetching URL {url}: {e}\") # Fehler ausgeben\n",
        "      return None # leeren Output zurückgeben"
      ]
    },
    {
      "cell_type": "markdown",
      "source": [
        "**Aufgabe:** Untersucht das HTML der folgenden Website: [https://digipress.digitale-sammlungen.de/calendar/newspaper/bsbmult00000618](https://digipress.digitale-sammlungen.de/calendar/newspaper/bsbmult00000618) - was unterscheidet Jahre mit verfügbaren digitalen Ausgaben von Jahren ohne Ausgaben?"
      ],
      "metadata": {
        "id": "OYHzSnvCYqr8"
      }
    },
    {
      "cell_type": "code",
      "source": [
        "# Webscraper für Kalenderansicht\n",
        "\n",
        "@lru_cache(maxsize=None) # Cache (merkt sich Ergebnisse für bereits abgefragte URLs) - dieses Mal über eine bestehende Bibliothek (vgl. Notebook 2a)\n",
        "\n",
        "def get_available_years(url):\n",
        "  print(f\"Wird abgerufen: {url}\") # zur Übersicht über Fortschritt\n",
        "\n",
        "  time.sleep(0.5) # Pause einbauen (hier 0.5 Sekunden) - verhindert zu schnelle Anfragen\n",
        "\n",
        "  soup = get_html_from_url(url) # HTML der URL laden - über vorher definierte Funktion\n",
        "\n",
        "  # Finde alle <ul>-Elemente mit der Klasse \"centuryYearList clearfix\"\n",
        "  ul_elements = soup.find_all('ul', class_='centuryYearList clearfix')\n",
        "\n",
        "  # Leere Liste zum Speichern der Links\n",
        "  available_years = []\n",
        "\n",
        "  for ul_element in ul_elements: # Für jedes gefundene <ul>-Element:\n",
        "      list_items = ul_element.find_all('li') # Finde alle sich <li>-Elemente darin\n",
        "      for item in list_items: # Für jedes gefundene <li>-Element:\n",
        "          link = item.find('a') # Finde den Link (<a>-Element)\n",
        "          if link and 'href' in link.attrs: # Falls Link vorhanden\n",
        "              year = link.text.strip() # Jahresangabe = Text von Link\n",
        "              available_years.append((year)) # Zu verfügbaren Jahren hinzufügen\n",
        "  return available_years # Liste verfügbarer Jahre zurückgeben"
      ],
      "metadata": {
        "id": "wsrlGXOIV2DW"
      },
      "execution_count": null,
      "outputs": []
    },
    {
      "cell_type": "code",
      "execution_count": null,
      "metadata": {
        "id": "t4eJXG5nItNx"
      },
      "outputs": [],
      "source": [
        "# Funktion pro Zeile durchführen - je mit \"Link\" (= URL der Kalenderansicht) als Input - läuft ca. 7-10 Minuten\n",
        "df['available_years'] = df['Link'].apply(get_available_years)"
      ]
    },
    {
      "cell_type": "code",
      "source": [
        "# Alternative (falls Webscraping zu lange lädt): Vorbereitete Version der Zeitungsliste laden\n",
        "\n",
        "df = pd.read_excel(\"Zeitungsliste_verfügbare_Jahrgänge.xlsx\")"
      ],
      "metadata": {
        "id": "T4u0RwathuBN"
      },
      "execution_count": null,
      "outputs": []
    },
    {
      "cell_type": "code",
      "source": [
        "# Zwischeneinblick in Daten: Was hat sich geändert?\n",
        "df.head()"
      ],
      "metadata": {
        "id": "_FCOCcU2Wq8z"
      },
      "execution_count": null,
      "outputs": []
    },
    {
      "cell_type": "markdown",
      "source": [
        "### Vergleich von erschienen versus in digiPress verfügbaren Jahrgängen"
      ],
      "metadata": {
        "id": "Yic9H3oEcjjo"
      }
    },
    {
      "cell_type": "markdown",
      "source": [
        "**Erinnerung:** \"Verfügbar\" meint hier mindestens eine Ausgabe dieses Jahrgangs ist digital zugänglich. Als Perspektive: Genaue Ausgabenzahlen wären ein möglichster nächster Schritt und würden ein erneues Webscraping pro Periodikum und Jahr bedeuten."
      ],
      "metadata": {
        "id": "ZNI6A004c4qY"
      }
    },
    {
      "cell_type": "code",
      "source": [
        "# Umwandeln der Strings (z.B. \"1817\") in \"available_years\" in Zahlen\n",
        "df['available_years'] = df['available_years'].apply(\n",
        "    lambda lst: [int(y) for y in ast.literal_eval(lst)]\n",
        ")\n",
        "\n",
        "# Für jedes Jahr überprüfen: Bei wievielen unterschiedlichen Zeitungsunternehmen ist das Jahr in der Liste \"available_year\"?\n",
        "active_counts_available = []\n",
        "for y in years:\n",
        "    active_titles = df[df['available_years'].apply(lambda lst: y in lst)]\n",
        "    n_active_companies = active_titles['digiPress-ID'].nunique()\n",
        "    active_counts_available.append(n_active_companies)\n",
        "\n",
        "# Diagrammerstellung\n",
        "\n",
        "plt.figure(figsize=(14,6)) # Initialisierung und Diagrammgröße\n",
        "\n",
        "# Daten von vorherigem Flächendiagramm\n",
        "plt.plot(years, active_counts, color=\"green\", label=\"Erscheinungsverlauf\")\n",
        "plt.fill_between(years, active_counts, alpha=0.3, color=\"green\")\n",
        "\n",
        "# neue Daten von tatsächlich verfügbaren Jahrgängen hinzufügen\n",
        "plt.plot(years, active_counts_available, color=\"blue\", label=\"Verfügbare Jahrgänge\")\n",
        "plt.fill_between(years, active_counts_available, alpha=0.3, color=\"blue\")\n",
        "\n",
        "# Überschrift, Labels, Legende etc. hinzufügen\n",
        "plt.title(\"Erscheinungsverlauf versus Verfügbarkeit der Periodika in digiPress: Unternehmen pro Jahr\", fontsize=20)\n",
        "plt.xlabel(\"Jahr\")\n",
        "plt.ylabel(\"Anzahl erschienener Unternehmen\", fontsize=16)\n",
        "plt.grid(True, alpha=0.5, linestyle=\"--\")\n",
        "plt.legend()\n",
        "plt.show()"
      ],
      "metadata": {
        "id": "rVNbjyWmcShk"
      },
      "execution_count": null,
      "outputs": []
    },
    {
      "cell_type": "markdown",
      "source": [
        "## Speicherung als Excel-Dateien"
      ],
      "metadata": {
        "id": "MRf68iPhe5i0"
      }
    },
    {
      "cell_type": "code",
      "execution_count": null,
      "metadata": {
        "id": "eE5uNHjx4Uu4"
      },
      "outputs": [],
      "source": [
        "df.to_excel(\"Zeitungsliste_verfügbare_Jahrgänge.xlsx\", index=False)"
      ]
    },
    {
      "cell_type": "markdown",
      "source": [
        "## Perspektiven"
      ],
      "metadata": {
        "id": "Nb8qCodtmu9T"
      }
    },
    {
      "cell_type": "markdown",
      "source": [
        "**Fragen:**\n",
        "* Worüber gibt uns die obige Grafik Auskunft?\n",
        "* Welche weiteren Auswertungen könnten/sollten hieran und an die explorativen Analysen der letzten Notebooks anschließen?\n",
        "* Welche Chancen bietet die Analyse von gescrapten Metadaten?\n",
        "* Welche Limitationen hat das Scrapen von Zeitungsportalen?"
      ],
      "metadata": {
        "id": "XFOUj8nhnUWW"
      }
    }
  ],
  "metadata": {
    "colab": {
      "provenance": [],
      "toc_visible": true
    },
    "kernelspec": {
      "display_name": "Python 3",
      "name": "python3"
    },
    "language_info": {
      "name": "python"
    }
  },
  "nbformat": 4,
  "nbformat_minor": 0
}